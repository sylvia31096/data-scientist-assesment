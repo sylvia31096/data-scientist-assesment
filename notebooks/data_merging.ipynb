{
 "cells": [
  {
   "cell_type": "markdown",
   "metadata": {},
   "source": [
    "# **Data Merging Notebook**\n",
    "This notebook includes code for merging different data.\n",
    "The steps involved are:\n",
    "1. Importing the data from respective files \n",
    "2. Check differences between Kenya and Nigeria data\n",
    "3. Correct differences\n",
    "4. Merge on common columns"
   ]
  },
  {
   "cell_type": "code",
   "execution_count": 26,
   "metadata": {},
   "outputs": [],
   "source": [
    "# import required libraries\n",
    "import pandas as pd"
   ]
  },
  {
   "cell_type": "code",
   "execution_count": 27,
   "metadata": {},
   "outputs": [],
   "source": [
    "# read all the data into dataframes\n",
    "ken_cust_df = pd.read_csv(\"../data/Kenya Customers.csv\") # Kenya customer data\n",
    "ken_del_df = pd.read_csv(\"../data/Kenya Deliveries.csv\") # Kenya deliveries data\n",
    "ken_ord_df = pd.read_csv(\"../data/Kenya Orders.csv\") # Kenya orders data\n",
    "nig_cust_df = pd.read_csv(\"../data/Nigeria Customers.csv\") # Nigeria customer data\n",
    "nig_del_df = pd.read_csv(\"../data/Nigeria Deliveries.csv\") # Nigeria deliveries data\n",
    "nig_ord_df = pd.read_csv(\"../data/Nigeria Orders.csv\") # Nigeria orders data"
   ]
  },
  {
   "cell_type": "markdown",
   "metadata": {},
   "source": [
    "### Identify common columns"
   ]
  },
  {
   "cell_type": "code",
   "execution_count": 28,
   "metadata": {},
   "outputs": [
    {
     "name": "stdout",
     "output_type": "stream",
     "text": [
      "Customer Data\n",
      "{'Number of Employees', 'Upload restuarant location', 'Number of employees'}\n",
      "Deliveries Data\n",
      "{'Unnamed: 35', 'Unnamed: 34', 'Agent_Name'}\n",
      "Order Data\n",
      "{'Debt Amount'}\n"
     ]
    }
   ],
   "source": [
    "# Check if the correspnding datasets in Nigeria and Kenya are the same\n",
    "print(\"Customer Data\")\n",
    "print(set(ken_cust_df.columns) ^ set(nig_cust_df.columns))\n",
    "print(\"Deliveries Data\")\n",
    "print(set(ken_del_df.columns) ^ set(nig_del_df.columns))\n",
    "print(\"Order Data\")\n",
    "print(set(ken_ord_df.columns) ^ set(nig_ord_df.columns))\n"
   ]
  },
  {
   "cell_type": "markdown",
   "metadata": {},
   "source": [
    "### Differences between the Nigeria and Kenya datasets\n",
    "1. The customer data in Kenya dataset has \"Upload restuarant location\" and Nigeria dataset does not. \n",
    "2. 'Number of Employees' in the customer data is spelt different in Kenya and Nigeria datasets.\n",
    "3. The deliveries data in Kenya dataset has 'Unnamed: 34', 'Unnamed: 35', 'Agent_Name' and Nigeria dataset does not.\n",
    "4. The orders data in Kenya Dataset has 'Debt Amount' and Nigeria dataset does not."
   ]
  },
  {
   "cell_type": "markdown",
   "metadata": {},
   "source": [
    "### Correct differences"
   ]
  },
  {
   "cell_type": "code",
   "execution_count": 29,
   "metadata": {},
   "outputs": [],
   "source": [
    "# Spell 'Number of Employees' in the customer data the same.\n",
    "ken_cust_df = ken_cust_df.rename(columns={'Number of employees':'Number of Employees'})"
   ]
  },
  {
   "cell_type": "markdown",
   "metadata": {},
   "source": [
    "### Concatenate different countries data"
   ]
  },
  {
   "cell_type": "code",
   "execution_count": 30,
   "metadata": {},
   "outputs": [],
   "source": [
    "# Add country codes \n",
    "nig_cust_df[\"country_code\"]=\"234\"\n",
    "nig_del_df[\"country_code\"]=\"234\"\n",
    "nig_ord_df[\"country_code\"]=\"234\"\n",
    "\n",
    "ken_cust_df[\"country_code\"]=\"254\"\n",
    "ken_del_df[\"country_code\"]=\"254\"\n",
    "ken_ord_df[\"country_code\"]=\"254\"\n",
    "\n",
    "# Append datasets by countries\n",
    "cust_df = ken_cust_df.append(nig_cust_df)\n",
    "del_df = ken_del_df.append(nig_del_df)\n",
    "ord_df = ken_ord_df.append(nig_ord_df)"
   ]
  },
  {
   "cell_type": "markdown",
   "metadata": {},
   "source": [
    "### Check for common columns among customer, deliveries and order data"
   ]
  },
  {
   "cell_type": "code",
   "execution_count": 31,
   "metadata": {},
   "outputs": [
    {
     "name": "stdout",
     "output_type": "stream",
     "text": [
      "Customer and Deliveries Data\n",
      "{'country_code'}\n",
      "Deliveries and Orders Data\n",
      "{'country_code', 'Tip', 'Discount'}\n",
      "Customer and Order Data\n",
      "{'country_code', 'Customer ID'}\n"
     ]
    }
   ],
   "source": [
    "# Check if there are common columns among customer, deliveries and order data in Kenya\n",
    "print(\"Customer and Deliveries Data\")\n",
    "print(set(cust_df.columns) & set(del_df.columns))\n",
    "print(\"Deliveries and Orders Data\")\n",
    "print(set(del_df.columns) & set(ord_df.columns))\n",
    "print(\"Customer and Order Data\")\n",
    "print(set(ord_df.columns) & set(cust_df.columns))"
   ]
  },
  {
   "cell_type": "markdown",
   "metadata": {},
   "source": [
    "### Identified common columns\n",
    "1. Deliveries and Orders Data have {'Discount', 'Tip'} in common but they are not unique ID type columns. Delivery data has \"Order_ID\" and Order data has \"Order ID\" which is probably the same. They do however have different formats. Example of Order ID in delivery data is \"YR-11001517,0\" while for order data is \"11001517\".\n",
    "2. Customer and Order Data have {'Customer ID'} in common and it is of unique ID type. \n",
    "3. Customer and Deliveries Data do not have columns in common"
   ]
  },
  {
   "cell_type": "code",
   "execution_count": 32,
   "metadata": {},
   "outputs": [],
   "source": [
    "# Rename columns to match columns in other dataframes\n",
    "del_df = del_df.rename(columns={\"Order_ID\": \"Order ID\"})"
   ]
  },
  {
   "cell_type": "code",
   "execution_count": 33,
   "metadata": {},
   "outputs": [],
   "source": [
    "# Match pattern of \"Order ID\" in orders and deliveries data\n",
    "pat=r'YR-(\\d+),0'\n",
    "del_df[\"Order ID\"] = del_df[\"Order ID\"].str.replace(pat, r'\\1', regex=True)\n"
   ]
  },
  {
   "cell_type": "code",
   "execution_count": 34,
   "metadata": {},
   "outputs": [],
   "source": [
    "# Type cast to string all common columns\n",
    "del_df[\"Order ID\"]=del_df[\"Order ID\"].astype(str)\n",
    "ord_df[\"Order ID\"]=ord_df[\"Order ID\"].astype(str)\n",
    "cust_df[\"Customer ID\"]=cust_df[\"Customer ID\"].astype(str)\n",
    "ord_df[\"Customer ID\"]=ord_df[\"Customer ID\"].astype(str)\n",
    "\n"
   ]
  },
  {
   "cell_type": "code",
   "execution_count": 35,
   "metadata": {},
   "outputs": [],
   "source": [
    "# Check \n",
    "ord_ord_set = set(ord_df[\"Order ID\"])\n",
    "del_ord_set = set(del_df[\"Order ID\"])\n",
    "ord_cust_set = set(ord_df[\"Customer ID\"])\n",
    "cust_cust_set = set(cust_df[\"Customer ID\"])\n"
   ]
  },
  {
   "cell_type": "markdown",
   "metadata": {},
   "source": [
    "### How the common columns relate with each other"
   ]
  },
  {
   "cell_type": "code",
   "execution_count": 38,
   "metadata": {},
   "outputs": [
    {
     "name": "stdout",
     "output_type": "stream",
     "text": [
      "How many Order ID are in both Orders and Deliveries data Kenya? 4391\n",
      "Are all Order IDs in deliveries data in orders data? False\n",
      "Are all Order IDs in orders data in deliveries data? False\n",
      "How many Order IDs in orders data are not in deliveries data? 21640\n",
      "How many Order IDs in deliveries data are not in orders data? 4\n"
     ]
    }
   ],
   "source": [
    "print(\"How many Order ID are in both Orders and Deliveries data Kenya? \"+str(len(del_ord_set&ord_ord_set)))\n",
    "print(\"Are all Order IDs in deliveries data in orders data? \"+ str(del_ord_set.issubset(ord_ord_set)))\n",
    "print(\"Are all Order IDs in orders data in deliveries data? \"+ str(ord_ord_set.issubset(del_ord_set)))\n",
    "print(\"How many Order IDs in orders data are not in deliveries data? \"+ str(len(del_ord_set.difference(ord_ord_set))))\n",
    "print(\"How many Order IDs in deliveries data are not in orders data? \"+ str(len(ord_ord_set.difference(del_ord_set))))\n"
   ]
  },
  {
   "cell_type": "markdown",
   "metadata": {},
   "source": [
    "**NB: The orders are only for this year while most of the deliveries are for last year, this is why most of the Order IDs in deliveries data are not in orders data**"
   ]
  },
  {
   "cell_type": "code",
   "execution_count": 39,
   "metadata": {},
   "outputs": [
    {
     "name": "stdout",
     "output_type": "stream",
     "text": [
      "How many Customer ID are in both Orders and Customer data? 702\n",
      "Are all Customer IDs in orders data in customer data? True\n",
      "Are all Customer IDs in customer data in order data? False\n",
      "How many Customer IDs in orders data are not in customer data? 0\n",
      "How many Customer IDs in customer data are not in orders data? 4570\n"
     ]
    }
   ],
   "source": [
    "# Check if all Orders ID in deliveries are in Orders Data\n",
    "print(\"How many Customer ID are in both Orders and Customer data? \"+str(len(ord_cust_set&cust_cust_set)))\n",
    "print(\"Are all Customer IDs in orders data in customer data? \"+ str(ord_cust_set.issubset(cust_cust_set)))\n",
    "print(\"Are all Customer IDs in customer data in order data? \"+ str(cust_cust_set.issubset(ord_cust_set)))\n",
    "print(\"How many Customer IDs in orders data are not in customer data? \"+ str(len(ord_cust_set.difference(cust_cust_set))))\n",
    "print(\"How many Customer IDs in customer data are not in orders data? \"+ str(len(cust_cust_set.difference(ord_cust_set))))"
   ]
  },
  {
   "cell_type": "markdown",
   "metadata": {},
   "source": [
    "**NB: All Customer IDs in orders are data are in customer data, this makes sense cause every orders should be mapped to a customer**"
   ]
  },
  {
   "cell_type": "markdown",
   "metadata": {},
   "source": [
    "### **Merge the data set on common colums**"
   ]
  },
  {
   "cell_type": "code",
   "execution_count": 43,
   "metadata": {},
   "outputs": [
    {
     "data": {
      "text/html": [
       "<div>\n",
       "<style scoped>\n",
       "    .dataframe tbody tr th:only-of-type {\n",
       "        vertical-align: middle;\n",
       "    }\n",
       "\n",
       "    .dataframe tbody tr th {\n",
       "        vertical-align: top;\n",
       "    }\n",
       "\n",
       "    .dataframe thead th {\n",
       "        text-align: right;\n",
       "    }\n",
       "</style>\n",
       "<table border=\"1\" class=\"dataframe\">\n",
       "  <thead>\n",
       "    <tr style=\"text-align: right;\">\n",
       "      <th></th>\n",
       "      <th>Customer ID</th>\n",
       "      <th>Last Used Platform</th>\n",
       "      <th>Is Blocked</th>\n",
       "      <th>Created At</th>\n",
       "      <th>Language</th>\n",
       "      <th>Outstanding Amount</th>\n",
       "      <th>Loyalty Points</th>\n",
       "      <th>Number of Employees</th>\n",
       "      <th>Upload restuarant location</th>\n",
       "      <th>country_code</th>\n",
       "      <th>...</th>\n",
       "      <th>Task_Details_AMOUNT</th>\n",
       "      <th>Special_Instructions</th>\n",
       "      <th>Delivery_Charges</th>\n",
       "      <th>Subtotal</th>\n",
       "      <th>Payment_Type</th>\n",
       "      <th>Task_Category</th>\n",
       "      <th>Earning</th>\n",
       "      <th>Pricing</th>\n",
       "      <th>Unnamed: 34</th>\n",
       "      <th>Unnamed: 35</th>\n",
       "    </tr>\n",
       "  </thead>\n",
       "  <tbody>\n",
       "    <tr>\n",
       "      <th>104590</th>\n",
       "      <td>NaN</td>\n",
       "      <td>NaN</td>\n",
       "      <td>NaN</td>\n",
       "      <td>NaN</td>\n",
       "      <td>NaN</td>\n",
       "      <td>NaN</td>\n",
       "      <td>NaN</td>\n",
       "      <td>NaN</td>\n",
       "      <td>NaN</td>\n",
       "      <td>234</td>\n",
       "      <td>...</td>\n",
       "      <td>₦ 10000.00</td>\n",
       "      <td>-</td>\n",
       "      <td>₦ 0.00</td>\n",
       "      <td>10000</td>\n",
       "      <td>CASH</td>\n",
       "      <td>-</td>\n",
       "      <td>-</td>\n",
       "      <td>-</td>\n",
       "      <td>NaN</td>\n",
       "      <td>NaN</td>\n",
       "    </tr>\n",
       "    <tr>\n",
       "      <th>104591</th>\n",
       "      <td>NaN</td>\n",
       "      <td>NaN</td>\n",
       "      <td>NaN</td>\n",
       "      <td>NaN</td>\n",
       "      <td>NaN</td>\n",
       "      <td>NaN</td>\n",
       "      <td>NaN</td>\n",
       "      <td>NaN</td>\n",
       "      <td>NaN</td>\n",
       "      <td>234</td>\n",
       "      <td>...</td>\n",
       "      <td>₦ 17000.00</td>\n",
       "      <td>-</td>\n",
       "      <td>₦ 0.00</td>\n",
       "      <td>17000</td>\n",
       "      <td>CASH</td>\n",
       "      <td>-</td>\n",
       "      <td>-</td>\n",
       "      <td>-</td>\n",
       "      <td>NaN</td>\n",
       "      <td>NaN</td>\n",
       "    </tr>\n",
       "    <tr>\n",
       "      <th>104592</th>\n",
       "      <td>NaN</td>\n",
       "      <td>NaN</td>\n",
       "      <td>NaN</td>\n",
       "      <td>NaN</td>\n",
       "      <td>NaN</td>\n",
       "      <td>NaN</td>\n",
       "      <td>NaN</td>\n",
       "      <td>NaN</td>\n",
       "      <td>NaN</td>\n",
       "      <td>234</td>\n",
       "      <td>...</td>\n",
       "      <td>₦ 17000.00</td>\n",
       "      <td>-</td>\n",
       "      <td>-</td>\n",
       "      <td>17000</td>\n",
       "      <td>CASH</td>\n",
       "      <td>-</td>\n",
       "      <td>-</td>\n",
       "      <td>-</td>\n",
       "      <td>NaN</td>\n",
       "      <td>NaN</td>\n",
       "    </tr>\n",
       "    <tr>\n",
       "      <th>104593</th>\n",
       "      <td>NaN</td>\n",
       "      <td>NaN</td>\n",
       "      <td>NaN</td>\n",
       "      <td>NaN</td>\n",
       "      <td>NaN</td>\n",
       "      <td>NaN</td>\n",
       "      <td>NaN</td>\n",
       "      <td>NaN</td>\n",
       "      <td>NaN</td>\n",
       "      <td>234</td>\n",
       "      <td>...</td>\n",
       "      <td>₦ 10000.00</td>\n",
       "      <td>-</td>\n",
       "      <td>₦ 0.00</td>\n",
       "      <td>10000</td>\n",
       "      <td>CASH</td>\n",
       "      <td>-</td>\n",
       "      <td>-</td>\n",
       "      <td>-</td>\n",
       "      <td>NaN</td>\n",
       "      <td>NaN</td>\n",
       "    </tr>\n",
       "    <tr>\n",
       "      <th>104594</th>\n",
       "      <td>NaN</td>\n",
       "      <td>NaN</td>\n",
       "      <td>NaN</td>\n",
       "      <td>NaN</td>\n",
       "      <td>NaN</td>\n",
       "      <td>NaN</td>\n",
       "      <td>NaN</td>\n",
       "      <td>NaN</td>\n",
       "      <td>NaN</td>\n",
       "      <td>234</td>\n",
       "      <td>...</td>\n",
       "      <td>₦ 10000.00</td>\n",
       "      <td>-</td>\n",
       "      <td>-</td>\n",
       "      <td>10000</td>\n",
       "      <td>CASH</td>\n",
       "      <td>-</td>\n",
       "      <td>-</td>\n",
       "      <td>-</td>\n",
       "      <td>NaN</td>\n",
       "      <td>NaN</td>\n",
       "    </tr>\n",
       "  </tbody>\n",
       "</table>\n",
       "<p>5 rows × 89 columns</p>\n",
       "</div>"
      ],
      "text/plain": [
       "       Customer ID Last Used Platform  Is Blocked Created At Language  \\\n",
       "104590         NaN                NaN         NaN        NaN      NaN   \n",
       "104591         NaN                NaN         NaN        NaN      NaN   \n",
       "104592         NaN                NaN         NaN        NaN      NaN   \n",
       "104593         NaN                NaN         NaN        NaN      NaN   \n",
       "104594         NaN                NaN         NaN        NaN      NaN   \n",
       "\n",
       "        Outstanding Amount  Loyalty Points  Number of Employees  \\\n",
       "104590                 NaN             NaN                  NaN   \n",
       "104591                 NaN             NaN                  NaN   \n",
       "104592                 NaN             NaN                  NaN   \n",
       "104593                 NaN             NaN                  NaN   \n",
       "104594                 NaN             NaN                  NaN   \n",
       "\n",
       "       Upload restuarant location country_code  ... Task_Details_AMOUNT  \\\n",
       "104590                        NaN          234  ...          ₦ 10000.00   \n",
       "104591                        NaN          234  ...          ₦ 17000.00   \n",
       "104592                        NaN          234  ...          ₦ 17000.00   \n",
       "104593                        NaN          234  ...          ₦ 10000.00   \n",
       "104594                        NaN          234  ...          ₦ 10000.00   \n",
       "\n",
       "       Special_Instructions Delivery_Charges Subtotal  Payment_Type  \\\n",
       "104590                    -           ₦ 0.00    10000          CASH   \n",
       "104591                    -           ₦ 0.00    17000          CASH   \n",
       "104592                    -                -    17000          CASH   \n",
       "104593                    -           ₦ 0.00    10000          CASH   \n",
       "104594                    -                -    10000          CASH   \n",
       "\n",
       "        Task_Category  Earning  Pricing Unnamed: 34 Unnamed: 35  \n",
       "104590              -        -        -         NaN         NaN  \n",
       "104591              -        -        -         NaN         NaN  \n",
       "104592              -        -        -         NaN         NaN  \n",
       "104593              -        -        -         NaN         NaN  \n",
       "104594              -        -        -         NaN         NaN  \n",
       "\n",
       "[5 rows x 89 columns]"
      ]
     },
     "execution_count": 43,
     "metadata": {},
     "output_type": "execute_result"
    }
   ],
   "source": [
    "# Initialize the common columns to merge on\n",
    "cust_cols = ['Customer ID','country_code']\n",
    "ord_cols = ['Order ID','country_code','Discount','Tip']\n",
    "\n",
    "# Merge orders data and customer data on 'Customer ID','country_code'\n",
    "ord_cust_df = pd.merge(cust_df, ord_df, left_on=cust_cols, right_on = cust_cols, how=\"outer\")\n",
    "\n",
    "# Merge the new merged data frame and deliveries data on 'Order ID','country_code','Discount','Tip'\n",
    "df = pd.merge(ord_cust_df, del_df, left_on=ord_cols, right_on = ord_cols, how=\"outer\")\n",
    "df.tail()"
   ]
  }
 ],
 "metadata": {
  "interpreter": {
   "hash": "07203a361e8739f37e4b98d85655a5193f0edb55eac14f5fa7ba5b5cf0339296"
  },
  "kernelspec": {
   "display_name": "Python 3.8.10 64-bit ('banks-env': venv)",
   "language": "python",
   "name": "python3"
  },
  "language_info": {
   "codemirror_mode": {
    "name": "ipython",
    "version": 3
   },
   "file_extension": ".py",
   "mimetype": "text/x-python",
   "name": "python",
   "nbconvert_exporter": "python",
   "pygments_lexer": "ipython3",
   "version": "3.8.10"
  },
  "orig_nbformat": 4
 },
 "nbformat": 4,
 "nbformat_minor": 2
}
