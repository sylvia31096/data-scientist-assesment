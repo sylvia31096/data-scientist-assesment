{
 "cells": [
  {
   "cell_type": "code",
   "execution_count": 1,
   "metadata": {},
   "outputs": [],
   "source": [
    "# import required libraries\n",
    "import pandas as pd"
   ]
  },
  {
   "cell_type": "code",
   "execution_count": 19,
   "metadata": {},
   "outputs": [],
   "source": [
    "# read all the data into dataframes\n",
    "ken_cust_df = pd.read_csv(\"data/Kenya Customers.csv\")\n",
    "ken_del_df = pd.read_csv(\"data/Kenya Deliveries.csv\")\n",
    "ken_ord_df = pd.read_csv(\"data/Kenya Orders.csv\")\n",
    "nig_cust_df = pd.read_csv(\"data/Nigeria Customers.csv\")\n",
    "nig_del_df = pd.read_csv(\"data/Nigeria Deliveries.csv\")\n",
    "nig_ord_df = pd.read_csv(\"data/Nigeria Orders.csv\")"
   ]
  },
  {
   "cell_type": "markdown",
   "metadata": {},
   "source": [
    "## Merge datasets\n",
    "1. Get the columns in different "
   ]
  },
  {
   "cell_type": "code",
   "execution_count": 58,
   "metadata": {},
   "outputs": [],
   "source": [
    "# Rename columns to match columns in other dataframes\n",
    "nig_del_df = ken_del_df.rename(columns={\"Order_ID\": \"Order ID\"})\n",
    "ken_del_df = ken_del_df.rename(columns={\"Order_ID\": \"Order ID\"})"
   ]
  },
  {
   "cell_type": "code",
   "execution_count": 50,
   "metadata": {},
   "outputs": [],
   "source": [
    "# Match pattern\n",
    "pat=r'YR-(\\d+),0'\n",
    "ken_del_df[\"Order ID\"] = ken_del_df[\"Order ID\"].str.replace(pat, r'\\1', regex=True)\n",
    "nig_del_df[\"Order ID\"] = nig_del_df[\"Order ID\"].str.replace(pat, r'\\1', regex=True)"
   ]
  },
  {
   "cell_type": "code",
   "execution_count": 54,
   "metadata": {},
   "outputs": [],
   "source": [
    "# Merge the dataframes for Kenya on common columns\n",
    "ken_ord_cust_df = pd.merge(ken_cust_df, ken_ord_df, on='Customer ID')\n",
    "ken_ord_cust_df['Order ID'] = ken_ord_cust_df['Order ID'].astype(str)\n",
    "ken_df = pd.merge(ken_ord_cust_df, ken_del_df, on='Order ID')\n",
    "ken_df[\"Country_Code\"] = 254"
   ]
  },
  {
   "cell_type": "code",
   "execution_count": 55,
   "metadata": {},
   "outputs": [],
   "source": [
    "# Merge the dataframes for Nigeria on common columns\n",
    "nig_ord_cust_df = pd.merge(nig_cust_df, nig_ord_df, on='Customer ID')\n",
    "nig_ord_cust_df['Order ID'] = nig_ord_cust_df['Order ID'].astype(str)\n",
    "nig_df = pd.merge(nig_ord_cust_df, nig_del_df, on='Order ID')\n",
    "nig_df[\"Country_Code\"] = 234"
   ]
  },
  {
   "cell_type": "code",
   "execution_count": 56,
   "metadata": {},
   "outputs": [],
   "source": [
    "# Append the Nigeria data frame to Kenya data frame\n",
    "df = ken_df.append(nig_df)"
   ]
  }
 ],
 "metadata": {
  "interpreter": {
   "hash": "07203a361e8739f37e4b98d85655a5193f0edb55eac14f5fa7ba5b5cf0339296"
  },
  "kernelspec": {
   "display_name": "Python 3.8.10 64-bit ('banks-env': venv)",
   "language": "python",
   "name": "python3"
  },
  "language_info": {
   "codemirror_mode": {
    "name": "ipython",
    "version": 3
   },
   "file_extension": ".py",
   "mimetype": "text/x-python",
   "name": "python",
   "nbconvert_exporter": "python",
   "pygments_lexer": "ipython3",
   "version": "3.8.10"
  },
  "orig_nbformat": 4
 },
 "nbformat": 4,
 "nbformat_minor": 2
}
